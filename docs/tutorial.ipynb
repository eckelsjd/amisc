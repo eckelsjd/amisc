{
 "cells": [
  {
   "cell_type": "markdown",
   "id": "0",
   "metadata": {
    "jp-MarkdownHeadingCollapsed": true,
    "jupyter": {
     "is_executing": true
    }
   },
   "source": [
    "# AMISC tutorial"
   ]
  },
  {
   "cell_type": "markdown",
   "id": "1",
   "metadata": {
    "jp-MarkdownHeadingCollapsed": true
   },
   "source": [
    "## Simple 2-component system\n",
    "\\begin{align}\n",
    "y_1 &= f_1(x) = x \\sin(\\pi x)\\\\\n",
    "y_2 &= f_2(y_1) = \\frac{1}{1 + 25y_1^2}\n",
    "\\end{align}"
   ]
  },
  {
   "cell_type": "code",
   "execution_count": null,
   "id": "2",
   "metadata": {},
   "outputs": [],
   "source": [
    "from amisc import Variable, Component, System"
   ]
  },
  {
   "cell_type": "code",
   "execution_count": null,
   "id": "3",
   "metadata": {},
   "outputs": [],
   "source": [
    "# Define component model functions\n",
    "def f1(x):\n",
    "    return {'y1': x['x'] * np.sin(np.pi * x['x'])}\n",
    "def f2(y1):\n",
    "    return {'y2': 1 / (1 + 25*y1['y1']**2)}"
   ]
  },
  {
   "cell_type": "code",
   "execution_count": null,
   "id": "4",
   "metadata": {},
   "outputs": [],
   "source": [
    "# Define variables\n",
    "x = Variable()\n",
    "y1 = Variable()\n",
    "y2 = Variable()"
   ]
  },
  {
   "cell_type": "code",
   "execution_count": null,
   "id": "5",
   "metadata": {},
   "outputs": [],
   "source": [
    "# Link components together\n",
    "comp1 = Component(f1, 'x', 'y1')\n",
    "comp2 = Component(f2, 'y1', 'y2')\n",
    "system = System(comp1, comp2)"
   ]
  },
  {
   "cell_type": "code",
   "execution_count": null,
   "id": "6",
   "metadata": {},
   "outputs": [],
   "source": [
    "# Plot the true functions\n",
    "import numpy as np\n",
    "import matplotlib.pyplot as plt\n",
    "\n",
    "x_grid = {'x': np.linspace(0, 1, 100)}\n",
    "y1_grid = f1(x_grid)\n",
    "y2_grid = f2(y1_grid)\n",
    "\n",
    "fig, ax = plt.subplots(1, 2, figsize=(6, 3), layout='tight', sharey='row')\n",
    "ax[0].plot(x_grid['x'], y1_grid['y1'])\n",
    "ax[1].plot(x_grid['x'], y2_grid['y2'])\n",
    "ax[0].set_xlabel('$x$')\n",
    "ax[1].set_xlabel('$x$')\n",
    "ax[0].set_ylabel('$f(x)$')\n",
    "plt.show()"
   ]
  },
  {
   "cell_type": "code",
   "execution_count": null,
   "id": "7",
   "metadata": {},
   "outputs": [],
   "source": [
    "# Can do the same thing with the system object\n",
    "y_grid = system.predict(x_grid, use_model='best')\n",
    "\n",
    "fig, ax = plt.subplots(1, 2, figsize=(6, 3), layout='tight', sharey='row')\n",
    "ax[0].plot(x_grid['x'], y_grid['y1'], '-r')\n",
    "ax[1].plot(x_grid['x'], y_grid['y2'], '-r')\n",
    "ax[0].set_xlabel('$x$')\n",
    "ax[1].set_xlabel('$x$')\n",
    "ax[0].set_ylabel('$f(x)$')\n",
    "plt.show()"
   ]
  },
  {
   "cell_type": "markdown",
   "id": "8",
   "metadata": {},
   "source": [
    "### Add a new component model:\n",
    "$$y_3(x, y_2) = x \\cos(\\pi y_2)$$"
   ]
  },
  {
   "cell_type": "code",
   "execution_count": null,
   "id": "9",
   "metadata": {},
   "outputs": [],
   "source": [
    "# Add a new component\n",
    "y3 = Variable()\n",
    "f3 = lambda inputs: {'y3': inputs['x'] * np.cos(np.pi * inputs['y2'])}\n",
    "comp3 = Component(f3, [x, y2], y3)\n",
    "system.insert_component(comp3)\n",
    "print(system)"
   ]
  },
  {
   "cell_type": "code",
   "execution_count": null,
   "id": "10",
   "metadata": {},
   "outputs": [],
   "source": [
    "y_grid = system.predict(x_grid, use_model='best')\n",
    "\n",
    "fig, ax = plt.subplots(1, 3, figsize=(8, 3), layout='tight', sharey='row')\n",
    "ax[0].plot(x_grid['x'], y_grid['y1'], '-r')\n",
    "ax[1].plot(x_grid['x'], y_grid['y2'], '-r')\n",
    "ax[2].plot(x_grid['x'], y_grid['y3'], '-r')\n",
    "ax[0].set_xlabel('$x$')\n",
    "ax[1].set_xlabel('$x$')\n",
    "ax[2].set_xlabel('$x$')\n",
    "ax[0].set_ylabel('$f(x)$')\n",
    "plt.show()"
   ]
  },
  {
   "cell_type": "markdown",
   "id": "11",
   "metadata": {},
   "source": [
    "### Constructing a surrogate for the multidisciplinary system"
   ]
  },
  {
   "cell_type": "code",
   "execution_count": null,
   "id": "12",
   "metadata": {},
   "outputs": [],
   "source": [
    "# Construct and use a surrogate (literally these two lines right here)\n",
    "system.fit()\n",
    "y_surr = system.predict(x_grid)"
   ]
  },
  {
   "cell_type": "markdown",
   "id": "13",
   "metadata": {},
   "source": [
    "## Model fidelities\n",
    "Model fidelity is specified using tuples of integer indices (i.e. \"multi-indices\").\n",
    "\n",
    "- $\\alpha = (\\alpha_1, \\alpha_2, \\dots)$ &rarr; controls the \"physical\" fidelity of the model    (_think_: mesh refinement, $\\Delta t$, etc.)\n",
    "- $\\beta = (\\beta_1, \\beta_2, \\dots)$ &rarr; controls the \"parametric\" fidelity of the surrogate (_think_: number of training points, etc.)\n",
    "\n",
    "Construct a multi-fidelity surrogate for the model:\n",
    "\n",
    "\\begin{align}\n",
    "y &= f(x) = \\cos\\left(\\frac{\\pi}{2}(x + \\frac{4}{5} + \\frac{\\epsilon}{5})\\right)\\\\\n",
    "\\epsilon &= 2^{-\\alpha_0}\\\\\n",
    "\\text{for}\\ \\alpha_0 &= (0, 1, 2, \\dots)\\\\\n",
    "\\end{align}\n",
    "\n",
    "As the $\\alpha$ index increases, $\\epsilon\\rightarrow 0$ and the \"fidelity\" of the model increases."
   ]
  },
  {
   "cell_type": "code",
   "execution_count": null,
   "id": "14",
   "metadata": {},
   "outputs": [],
   "source": [
    "def multilevel_model(inputs, alpha):\n",
    "    eps = 2**(-alpha[0])\n",
    "    return {'y': np.cos(np.pi/2 * (inputs['x'] + 4/5 + (1/5)*eps))}\n",
    "\n",
    "x = Variable()\n",
    "y = Variable()\n",
    "comp = Component(multilevel_model, x, y, max_alpha=(2,), max_beta=(2,))"
   ]
  },
  {
   "cell_type": "code",
   "execution_count": null,
   "id": "15",
   "metadata": {},
   "outputs": [],
   "source": [
    "x_grid = {'x': np.linspace(-1, 1, 100)}\n",
    "y_truth = multilevel_model(x_grid, (10,))['y']\n",
    "colors = ['r', 'g', 'b']\n",
    "\n",
    "fig, ax = plt.subplots(figsize=(4, 3), layout='tight')\n",
    "ax.plot(x_grid['x'], y_truth, '-k', label='Truth')\n",
    "for i in range(3):\n",
    "    y_grid = comp.predict(x_grid, use_model=(i,))\n",
    "    ax.plot(x_grid['x'], y_grid['y'], f'-{colors[i]}', label=rf'$\\alpha$={i}')\n",
    "ax.legend()\n",
    "plt.show()"
   ]
  },
  {
   "cell_type": "markdown",
   "id": "16",
   "metadata": {},
   "source": [
    "## Random variables"
   ]
  },
  {
   "cell_type": "code",
   "execution_count": null,
   "id": "17",
   "metadata": {},
   "outputs": [],
   "source": [
    "x = Variable(distribution='Normal(2, 0.5)')\n",
    "y = Variable(distribution='Uniform(-1, 10)')\n",
    "x_samples = x.sample(1000)\n",
    "y_samples = y.sample(1000)\n",
    "\n",
    "fig, ax = plt.subplots()\n",
    "ax.hist(y_samples, bins=20, alpha=0.3, facecolor='b', edgecolor='k')\n",
    "ax.hist(x_samples, bins=20, alpha=0.5, facecolor='r', edgecolor='k')\n",
    "\n",
    "plt.show()"
   ]
  },
  {
   "cell_type": "markdown",
   "id": "18",
   "metadata": {},
   "source": [
    "# AMISC tutorial (part 2)"
   ]
  },
  {
   "cell_type": "markdown",
   "id": "19",
   "metadata": {},
   "source": [
    "## Review"
   ]
  },
  {
   "cell_type": "markdown",
   "id": "20",
   "metadata": {},
   "source": [
    "Multidisciplinary (MD) systems are constructed from 3 objects:\n",
    "\n",
    "- **Variables** - These are inputs, outputs, QoIs, etc. They are the most basic element of any MD system and serve as the datapaths or connections between models. They can be random variables, scalars, field quantities, etc.\n",
    "- **Components** - These are the individual discipline models. They map a set of inputs to a set of outputs.\n",
    "- **System** - This is the top-level MD system. It connects multiple component models and manages the flow of data between them"
   ]
  },
  {
   "cell_type": "code",
   "execution_count": null,
   "id": "21",
   "metadata": {},
   "outputs": [],
   "source": [
    "from amisc import Variable, Component, System"
   ]
  },
  {
   "cell_type": "markdown",
   "id": "22",
   "metadata": {},
   "source": [
    "### Variables"
   ]
  },
  {
   "cell_type": "code",
   "execution_count": null,
   "id": "23",
   "metadata": {},
   "outputs": [],
   "source": [
    "x = Variable()                                                 # Empty variable\n",
    "inputs = [Variable(f'x{i}') for i in range(3)]                 # Giving names\n",
    "theta = Variable(name='t',                                     # Random variable\n",
    "                 tex=r'$\\theta$', \n",
    "                 units='rad', \n",
    "                 description='Fit coefficient', \n",
    "                 category='calibration', \n",
    "                 distribution='N(0, 1)'\n",
    "                )\n",
    "pressure = Variable(name='p',                                  # Field quantity\n",
    "                    shape=(100, 3), \n",
    "                    compression=dict(method='svd', rank=2)\n",
    "                   )"
   ]
  },
  {
   "cell_type": "code",
   "execution_count": null,
   "id": "24",
   "metadata": {},
   "outputs": [],
   "source": [
    "print(x)\n",
    "print(inputs)"
   ]
  },
  {
   "cell_type": "code",
   "execution_count": null,
   "id": "25",
   "metadata": {},
   "outputs": [],
   "source": [
    "import matplotlib.pyplot as plt\n",
    "plt.hist(theta.sample(1000), bins=20, alpha=0.5, facecolor='r', edgecolor='k')\n",
    "plt.xlabel(theta.get_tex(units=True))\n",
    "plt.show()"
   ]
  },
  {
   "cell_type": "code",
   "execution_count": null,
   "id": "26",
   "metadata": {},
   "outputs": [],
   "source": [
    "# Loading from file\n",
    "config = \"\"\"\n",
    "!Variable\n",
    "name: t\n",
    "tex: '$\\\\theta$'\n",
    "units: K\n",
    "description: Fit coefficient\n",
    "distribution: N(0, 1)\n",
    "\"\"\"\n",
    "\n",
    "with open('file.yml', 'w') as fd:\n",
    "    fd.write(config)"
   ]
  },
  {
   "cell_type": "code",
   "execution_count": null,
   "id": "27",
   "metadata": {},
   "outputs": [],
   "source": [
    "from amisc import YamlLoader\n",
    "theta = YamlLoader.load('file.yml')"
   ]
  },
  {
   "cell_type": "code",
   "execution_count": null,
   "id": "28",
   "metadata": {},
   "outputs": [],
   "source": [
    "plt.hist(theta.sample(1000), bins=20, alpha=0.5, facecolor='r', edgecolor='k')\n",
    "plt.xlabel(theta.get_tex(units=True))\n",
    "plt.show()"
   ]
  },
  {
   "cell_type": "markdown",
   "id": "29",
   "metadata": {},
   "source": [
    "### Components"
   ]
  },
  {
   "cell_type": "markdown",
   "id": "30",
   "metadata": {},
   "source": [
    "\\begin{align}\n",
    "y_1 &= f_1(x) = x \\sin(\\pi x)\\\\\n",
    "y_2 &= f_2(y_1) = \\frac{1}{1 + 25y_1^2}\\\\\n",
    "y_3 &= f_3(x, y_2) = x \\cos(\\pi y_2)\n",
    "\\end{align}"
   ]
  },
  {
   "cell_type": "code",
   "execution_count": null,
   "id": "31",
   "metadata": {},
   "outputs": [],
   "source": [
    "# Simple components\n",
    "def f1(x):\n",
    "    y1 = x * np.sin(np.pi * x)\n",
    "    return y1\n",
    "def f2(y1):\n",
    "    y2 = 1 / (1 + 25*y1**2)\n",
    "    return y2\n",
    "comp1 = Component(f1)\n",
    "comp2 = Component(f2)\n",
    "print(comp1)\n",
    "print(comp2)"
   ]
  },
  {
   "cell_type": "code",
   "execution_count": null,
   "id": "32",
   "metadata": {},
   "outputs": [],
   "source": [
    "# Multiple inputs\n",
    "def f3(x, y2):\n",
    "    y3 = x * np.cos(np.pi * y2)\n",
    "    return y3\n",
    "\n",
    "# Alternatively\n",
    "def f3_dict(inputs):\n",
    "    return { 'y3': inputs['x'] * np.cos(np.pi * inputs['y2']) }\n",
    "\n",
    "comp3 = Component(f3)\n",
    "comp3_dict = Component(f3_dict, inputs=[Variable('x'), Variable('y2')], outputs=[Variable('y3')])\n",
    "print(comp3)\n",
    "print(comp3_dict)"
   ]
  },
  {
   "cell_type": "code",
   "execution_count": null,
   "id": "33",
   "metadata": {},
   "outputs": [],
   "source": [
    "# Loading from file\n",
    "config = \"\"\"\n",
    "!Component\n",
    "name: My component 3\n",
    "model: !!python/name:amisc.tutorial.f3_dict\n",
    "inputs:\n",
    "  !Variable\n",
    "  - name: x\n",
    "  - name: y2\n",
    "outputs:\n",
    "  !Variable\n",
    "  - name: y3\n",
    "\"\"\"\n",
    "\n",
    "with open('file.yml', 'w') as fd:\n",
    "    fd.write(config)"
   ]
  },
  {
   "cell_type": "code",
   "execution_count": null,
   "id": "34",
   "metadata": {},
   "outputs": [],
   "source": [
    "comp3 = YamlLoader.load('file.yml')\n",
    "print(comp3)"
   ]
  },
  {
   "cell_type": "code",
   "execution_count": null,
   "id": "35",
   "metadata": {},
   "outputs": [],
   "source": [
    "comp3.predict({'x': 2.0, 'y2': 1.0}, use_model='best')"
   ]
  },
  {
   "cell_type": "markdown",
   "id": "36",
   "metadata": {},
   "source": [
    "### System"
   ]
  },
  {
   "cell_type": "code",
   "execution_count": null,
   "id": "37",
   "metadata": {},
   "outputs": [],
   "source": [
    "from amisc import YamlLoader\n",
    "sys = System(f1, f2, f3)\n",
    "print(sys)"
   ]
  },
  {
   "cell_type": "code",
   "execution_count": null,
   "id": "38",
   "metadata": {},
   "outputs": [],
   "source": [
    "# The only two functions you need to get going\n",
    "# sys.fit()\n",
    "# sys.predict()"
   ]
  },
  {
   "cell_type": "code",
   "execution_count": null,
   "id": "39",
   "metadata": {},
   "outputs": [],
   "source": [
    "# Loading from file\n",
    "config = \"\"\"\n",
    "!System\n",
    "name: My multidisciplinary system\n",
    "components:\n",
    "  !Component\n",
    "  - model: !!python/name:amisc.tutorial.f1\n",
    "  - model: !!python/name:amisc.tutorial.f2\n",
    "  - model: !!python/name:amisc.tutorial.f3\n",
    "\"\"\"\n",
    "\n",
    "with open('file.yml', 'w') as fd:\n",
    "    fd.write(config)"
   ]
  },
  {
   "cell_type": "code",
   "execution_count": null,
   "id": "40",
   "metadata": {},
   "outputs": [],
   "source": [
    "from amisc import YamlLoader\n",
    "sys = YamlLoader.load('file.yml')\n",
    "print(sys)"
   ]
  },
  {
   "cell_type": "code",
   "execution_count": null,
   "id": "41",
   "metadata": {},
   "outputs": [],
   "source": [
    "import numpy as np\n",
    "import matplotlib.pyplot as plt\n",
    "\n",
    "x_grid = {'x': np.linspace(0, 1, 100)}"
   ]
  },
  {
   "cell_type": "code",
   "execution_count": null,
   "id": "42",
   "metadata": {},
   "outputs": [],
   "source": [
    "y_grid = sys.predict(x_grid, use_model='best')\n",
    "\n",
    "fig, ax = plt.subplots(1, 3, figsize=(8, 3), layout='tight', sharey='row')\n",
    "ax[0].plot(x_grid['x'], y_grid['y1'], '-r')\n",
    "ax[1].plot(x_grid['x'], y_grid['y2'], '-r')\n",
    "ax[2].plot(x_grid['x'], y_grid['y3'], '-r')\n",
    "ax[0].set_xlabel('$x$')\n",
    "ax[1].set_xlabel('$x$')\n",
    "ax[2].set_xlabel('$x$')\n",
    "ax[0].set_ylabel('$f(x)$')\n",
    "plt.show()"
   ]
  },
  {
   "cell_type": "markdown",
   "id": "43",
   "metadata": {},
   "source": [
    "## Feedback cycles"
   ]
  },
  {
   "cell_type": "markdown",
   "id": "44",
   "metadata": {},
   "source": [
    "Feedback cycles are handled by converting the multidisciplinary system to a directed acyclic graph (DAG) and computing cycles with a nonlinear fixed-point iteration (FPI) routine.\n",
    "\n",
    "For example:\n",
    "\n",
    "\\begin{align}\n",
    "y_1 &= f_1(x, y_2) = -x^3 + 2y_2^2\\\\\n",
    "y_2 &= f_2(x, y_1) = 3x^2 + 4y_1^{-2}\\\\\n",
    "\\end{align}\n",
    "\n",
    "To solve with FPI:\n",
    "\n",
    "- Choose an initial sample for the coupling variables: $\\xi^{(0)} = (y_1^{(0)}, y_2^{(0)})$\n",
    "- Iterate $\\xi^{(i+1)} = f(\\xi^{(i)})$ until $|\\xi^{(i+1)}-\\xi^{(i)}| < \\epsilon$\n",
    "\n",
    "This is essentially a solver for a nonlinear system of equations (iterate until a residual is below a tolerance, i.e. Newton-Raphson)"
   ]
  },
  {
   "cell_type": "code",
   "execution_count": null,
   "id": "45",
   "metadata": {},
   "outputs": [],
   "source": [
    "f1 = lambda inputs: {'y1': -inputs['x']**3 + 2 * inputs['y2']**2}\n",
    "f2 = lambda inputs: {'y2': 3*inputs['x']**2 + 4 * inputs['y1']**(-2)}\n",
    "x = Variable(distribution='U(0, 4)')\n",
    "y1 = Variable(distribution='U(1, 10)')\n",
    "y2 = Variable(distribution='U(1, 10)')\n",
    "comp1 = Component(f1, [x, y2], y1)\n",
    "comp2 = Component(f2, [x, y1], y2)\n",
    "surr = System(comp1, comp2)"
   ]
  },
  {
   "cell_type": "code",
   "execution_count": null,
   "id": "46",
   "metadata": {},
   "outputs": [],
   "source": [
    "import networkx as nx\n",
    "nx.draw(surr.graph, with_labels=True, font_weight='bold')"
   ]
  },
  {
   "cell_type": "code",
   "execution_count": null,
   "id": "47",
   "metadata": {},
   "outputs": [],
   "source": [
    "tol = 1e-10\n",
    "# inputs = surr.sample_inputs(100)\n",
    "inputs = {'x': 0}  # (y1=2, y2=1) analytic solution\n",
    "y_surr = surr.predict(inputs, use_model='best', max_fpi_iter=200, fpi_tol=tol)"
   ]
  },
  {
   "cell_type": "markdown",
   "id": "48",
   "metadata": {},
   "source": [
    "## File configuration"
   ]
  },
  {
   "cell_type": "markdown",
   "id": "49",
   "metadata": {},
   "source": [
    "The three main `amisc` objects can be defined directly from yaml config files. Very similar to json."
   ]
  },
  {
   "cell_type": "code",
   "execution_count": null,
   "id": "50",
   "metadata": {},
   "outputs": [],
   "source": [
    "config = \n",
    "\"\"\"\n",
    "!System\n",
    "components: !Component\n",
    "  - name: comp1\n",
    "    model: ...\n",
    "    inputs: !Variable\n",
    "    - name: x1\n",
    "    - name: x2\n",
    "    outputs: !Variable\n",
    "    - name: y1\n",
    "    - name: y2\n",
    "  - name: comp2\n",
    "    model: ...\n",
    "    ...\n",
    "\"\"\"\n",
    "\n",
    "surr = System.load_from_file('surr.yml')\n",
    "surr.save_to_file('surr-copy.yml')"
   ]
  },
  {
   "cell_type": "markdown",
   "id": "51",
   "metadata": {},
   "source": [
    "## Putting it all together"
   ]
  },
  {
   "cell_type": "code",
   "execution_count": null,
   "id": "52",
   "metadata": {},
   "outputs": [],
   "source": [
    "from amisc.examples.models import fire_sat_system\n",
    "\n",
    "fire_sat = fire_sat_system()\n",
    "print(fire_sat)"
   ]
  },
  {
   "cell_type": "code",
   "execution_count": null,
   "id": "53",
   "metadata": {},
   "outputs": [],
   "source": [
    "import networkx as nx\n",
    "nx.draw(fire_sat.graph, with_labels=True, font_weight='bold')"
   ]
  },
  {
   "cell_type": "code",
   "execution_count": null,
   "id": "54",
   "metadata": {},
   "outputs": [],
   "source": [
    "fire_sat.set_logger(stdout=True)\n",
    "\n",
    "inputs = fire_sat.sample_inputs(1000)\n",
    "outputs = fire_sat.predict(inputs, use_model='best', verbose=True, fpi_tol=1e-12)"
   ]
  },
  {
   "cell_type": "code",
   "execution_count": null,
   "id": "55",
   "metadata": {},
   "outputs": [],
   "source": [
    "# Plot error histograms\n",
    "import matplotlib.pyplot as plt\n",
    "\n",
    "fig_in, ax_in = plt.subplots(1, 3, figsize=(9, 3), layout='tight')\n",
    "fig_out, ax_out = plt.subplots(1, 3, figsize=(9, 3), layout='tight')\n",
    "for i in range(3):\n",
    "    input_var = fire_sat.inputs()[i]\n",
    "    output_var = fire_sat.outputs()[i]\n",
    "    ax_in[i].hist(inputs[input_var], color='blue', bins=20, edgecolor='black', density=True, linewidth=1.2)\n",
    "    ax_out[i].hist(outputs[output_var], color='red', bins=20, edgecolor='black', density=True, linewidth=1.2)\n",
    "\n",
    "    ax_in[i].set_xlabel(input_var.get_tex())\n",
    "    ax_out[i].set_xlabel(output_var.get_tex())\n",
    "\n",
    "plt.show()"
   ]
  },
  {
   "cell_type": "markdown",
   "id": "56",
   "metadata": {},
   "source": [
    "## Advanced features"
   ]
  },
  {
   "cell_type": "markdown",
   "id": "57",
   "metadata": {},
   "source": [
    "### Parallelization"
   ]
  },
  {
   "cell_type": "markdown",
   "id": "58",
   "metadata": {},
   "source": [
    "You can compute the model/surrogate in 3 ways:\n",
    "\n",
    "- Serial - by default\n",
    "- Vectorized - if your component models allow it\n",
    "- Parallel - by passing in a parallel executor\n",
    "\n",
    "The call signature is identical no matter the method or whether you are using the surrogate or underlying models."
   ]
  },
  {
   "cell_type": "code",
   "execution_count": null,
   "id": "59",
   "metadata": {},
   "outputs": [],
   "source": [
    "from concurrent.futures import ThreadPoolExecutor\n",
    "\n",
    "x_grid = {'x': np.linspace(0, 1, 100)}\n",
    "\n",
    "y_grid_serial = system.predict(x_grid)\n",
    "y_grid_vector = system.predict(x_grid, vectorized=True)\n",
    "y_grid_parallel = system.predict(x_grid, executor=ThreadPoolExecutor(max_workers=4))"
   ]
  },
  {
   "cell_type": "markdown",
   "id": "60",
   "metadata": {},
   "source": [
    "### Field quantities (high-dimensional)"
   ]
  },
  {
   "cell_type": "code",
   "execution_count": null,
   "id": "61",
   "metadata": {},
   "outputs": [],
   "source": [
    "from amisc.utils import relative_error\n",
    "\n",
    "N_grid = 200\n",
    "amp = Variable('amp', distribution='U(-5, 5)')\n",
    "pressure = Variable('p', shape=(N_grid,), compression=dict(method='svd', energy_tol=0.99))\n",
    "def model(inputs, coords):\n",
    "    amp = inputs['amp']\n",
    "    return {'p': amp[..., np.newaxis] * np.tanh(np.squeeze(coords))}\n",
    "\n",
    "# Generate SVD data matrix\n",
    "params = amp.sample(50)\n",
    "x_grid = np.linspace(-2, 2, N_grid)\n",
    "outputs = model({str(amp): params}, x_grid)\n",
    "data_matrix = outputs[pressure].T  # (dof, num_samples)\n",
    "\n",
    "pressure.compression.coords = x_grid\n",
    "pressure.compression.compute_map(data_matrix)\n",
    "\n",
    "# Test compression\n",
    "coarse_shape = 25\n",
    "coarse_grid = np.linspace(-2, 2, coarse_shape)\n",
    "num_test = (5, 20)\n",
    "params = amp.sample(num_test)\n",
    "outputs = model({str(amp): params}, coarse_grid)\n",
    "\n",
    "outputs_latent = pressure.compress(outputs, coords=coarse_grid)\n",
    "outputs_reconstruct = pressure.reconstruct(outputs_latent)\n",
    "\n",
    "y = outputs[pressure]\n",
    "yhat = outputs_reconstruct[pressure]\n",
    "\n",
    "assert relative_error(yhat, y) < 0.01"
   ]
  },
  {
   "cell_type": "markdown",
   "id": "62",
   "metadata": {},
   "source": [
    "### Complex models"
   ]
  },
  {
   "cell_type": "markdown",
   "id": "63",
   "metadata": {},
   "source": [
    "Other things you can do in your models:\n",
    "\n",
    "- Request an `output_path` for saving simulation output/result files\n",
    "- Make arbitrary calls to other programs via `subprocess.run('my_program.exe')`"
   ]
  },
  {
   "cell_type": "code",
   "execution_count": null,
   "id": "64",
   "metadata": {},
   "outputs": [],
   "source": [
    "def my_model(inputs, output_path='.'):\n",
    "    # Compute your model here\n",
    "    # ...\n",
    "    # subprocess.run('my_model.exe')\n",
    "\n",
    "    # Save outputs to file\n",
    "    from pathlib import Path\n",
    "    data = np.random.rand(100, 10)\n",
    "    with open(Path(output_path) / 'my_file.dat', 'w') as fd:\n",
    "        np.savetxt(fd, data)"
   ]
  },
  {
   "cell_type": "markdown",
   "id": "65",
   "metadata": {},
   "source": [
    "### `amisc` customization"
   ]
  },
  {
   "cell_type": "markdown",
   "id": "66",
   "metadata": {},
   "source": [
    "- Use Gaussian Process regression instead of Lagrange polynomials\n",
    "- Use alternative compression methods\n",
    "- Use alternative serialization methods\n",
    "- Use alternative data storage methods"
   ]
  },
  {
   "cell_type": "code",
   "execution_count": null,
   "id": "67",
   "metadata": {},
   "outputs": [],
   "source": [
    "from amisc.interpolator import Interpolator  # Interpolation interface  (i.e. Lagrange)\n",
    "from amisc.compression import Compression    # Compression interface    (i.e. SVD)\n",
    "from amisc.serialize import Serializable     # Serialization interface\n",
    "from amisc.training import TrainingData      # Data storage interface   (i.e. SparseGrid)"
   ]
  },
  {
   "cell_type": "code",
   "execution_count": null,
   "id": "68",
   "metadata": {},
   "outputs": [],
   "source": [
    "# For example\n",
    "class MyCompression(Compression):\n",
    "    def compress():\n",
    "        pass\n",
    "    def reconstruct():\n",
    "        pass"
   ]
  }
 ],
 "metadata": {
  "kernelspec": {
   "display_name": "Python 3 (ipykernel)",
   "language": "python",
   "name": "python3"
  },
  "language_info": {
   "codemirror_mode": {
    "name": "ipython",
    "version": 3
   },
   "file_extension": ".py",
   "mimetype": "text/x-python",
   "name": "python",
   "nbconvert_exporter": "python",
   "pygments_lexer": "ipython3",
   "version": "3.11.7"
  }
 },
 "nbformat": 4,
 "nbformat_minor": 5
}
